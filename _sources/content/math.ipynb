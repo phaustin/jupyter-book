{
 "cells": [
  {
   "cell_type": "markdown",
   "metadata": {},
   "source": [
    "# Math and Equations\n",
    "\n",
    "Jupyter Book uses [MathJax](http://docs.mathjax.org/) for typesetting math in your\n",
    "book. This allows you to have LaTeX-style mathematics in your online content.\n",
    "This page shows you a few ways to control this.\n",
    "\n",
    "For more information about equation numbering, see the\n",
    "[MathJax equation numbering documentation](http://docs.mathjax.org/en/v2.7-latest/tex.html#automatic-equation-numbering).\n",
    "\n",
    "## In-line math\n",
    "\n",
    "To insert in-line math use the `$` symbol within a Markdown cell.\n",
    "For example, the text `$this_{is}^{inline}$` will produce: $this_{is}^{inline}$."
   ]
  },
  {
   "cell_type": "markdown",
   "metadata": {},
   "source": [
    "## Math blocks\n",
    "\n",
    "You can also include math blocks for separate equations. This allows you to focus attention\n",
    "on more complex or longer equations, as well as link to them in your pages. To use a block\n",
    "equation, wrap the equation in either `$$` or `\\begin` statements.\n",
    "\n",
    "For example,\n",
    "\n",
    "```latex\n",
    "\\begin{equation}\n",
    "  \\int_0^\\infty \\frac{x^3}{e^x-1}\\,dx = \\frac{\\pi^4}{15}\n",
    "\\end{equation}\n",
    "```\n",
    "results in\n",
    "\n",
    "\\begin{equation}\n",
    "  \\int_0^\\infty \\frac{x^3}{e^x-1}\\,dx = \\frac{\\pi^4}{15}\n",
    "\\end{equation}"
   ]
  },
  {
   "cell_type": "markdown",
   "metadata": {},
   "source": [
    "and\n",
    "\n",
    "```latex\n",
    "$$\n",
    "  \\int_0^\\infty \\frac{x^3}{e^x-1}\\,dx = \\frac{\\pi^4}{15}\n",
    "$$\n",
    "```\n",
    "\n",
    "results in\n",
    "\n",
    "$$\n",
    "  \\int_0^\\infty \\frac{x^3}{e^x-1}\\,dx = \\frac{\\pi^4}{15}\n",
    "$$"
   ]
  },
  {
   "cell_type": "markdown",
   "metadata": {},
   "source": [
    "### Numbering equations\n",
    "\n",
    "If you'd like to number equations so that you can refer to them later, use the **math directive**.\n",
    "It looks like this:\n",
    "\n",
    "````\n",
    "```{math}\n",
    ":label: my_label\n",
    "my_math\n",
    "```\n",
    "````\n",
    "\n",
    "For example, the following code:\n",
    "\n",
    "\n",
    "````\n",
    "```{math}\n",
    ":label: my_label\n",
    "w_{t+1} = (1 + r_{t+1}) s(w_t) + y_{t+1}\n",
    "```\n",
    "````\n",
    "\n",
    "Will generate this:\n",
    "\n",
    "\n",
    "```{math}\n",
    ":label: my_label\n",
    "w_{t+1} = (1 + r_{t+1}) s(w_t) + y_{t+1}\n",
    "```\n",
    "\n",
    "\n",
    "```{note}\n",
    "Labels cannot start with an integer, or they won't be able to be referenced and\n",
    "will throw a warning message if referenced. For example, `:label: 1` and `:label: 1eq` cannot\n",
    "be referenced.\n",
    "```\n",
    "\n",
    "### Linking to equations\n",
    "\n",
    "If you've created an equation with a label, you can link to it from within your text\n",
    "(and across pages!).\n",
    "\n",
    "You can refer to the equation using the label that you've provided by using\n",
    "the **`{eq}` role**. For example, putting `` {eq}`my_label` `` in-line will\n",
    "result in this: {eq}`my_label`."
   ]
  },
  {
   "cell_type": "code",
   "execution_count": null,
   "metadata": {},
   "outputs": [],
   "source": []
  }
 ],
 "metadata": {
  "jupytext": {
   "text_representation": {
    "extension": ".md",
    "format_name": "myst",
    "format_version": "0.8",
    "jupytext_version": "1.4.1+dev"
   }
  },
  "kernelspec": {
   "display_name": "Python 3",
   "language": "python",
   "name": "python3"
  },
  "language_info": {
   "codemirror_mode": {
    "name": "ipython",
    "version": 3
   },
   "file_extension": ".py",
   "mimetype": "text/x-python",
   "name": "python",
   "nbconvert_exporter": "python",
   "pygments_lexer": "ipython3",
   "version": "3.7.6"
  },
  "source_map": [
   12,
   28,
   49,
   65,
   113
  ]
 },
 "nbformat": 4,
 "nbformat_minor": 4
}